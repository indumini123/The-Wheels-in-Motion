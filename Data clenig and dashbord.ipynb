{
 "cells": [
  {
   "cell_type": "code",
   "execution_count": null,
   "metadata": {},
   "outputs": [],
   "source": [
    "import pandas as pd\n",
    "import glob\n",
    "\n",
    "file_paths = glob.glob('/content/Untitled Folder/*.csv')\n",
    "all_dataframes = []\n",
    "for file_path in file_paths:\n",
    "    df = pd.read_csv(file_path)\n",
    "    all_dataframes.append(df)\n",
    "\n",
    "vehicles_df = pd.concat(all_dataframes, ignore_index=False)\n",
    "\n",
    "vehicles_df.head()\n",
    "vehicles_df.shape"
   ]
  },
  {
   "cell_type": "code",
   "execution_count": null,
   "metadata": {},
   "outputs": [],
   "source": []
  },
  {
   "cell_type": "markdown",
   "metadata": {},
   "source": [
    "## Display precentage of null valus"
   ]
  }
 ],
 "metadata": {
  "language_info": {
   "name": "python"
  }
 },
 "nbformat": 4,
 "nbformat_minor": 2
}
